{
 "cells": [
  {
   "cell_type": "markdown",
   "id": "5d2e3761-b15d-43ef-b988-12b7cf9b6b95",
   "metadata": {},
   "source": [
    "### Normal Distribution\n",
    "\n",
    "- **Symmetrical Shape**: The normal distribution is perfectly symmetrical around its mean, with the left and right sides being mirror images.\n",
    "- **Bell Curve**: It has a bell-shaped curve, where the highest point represents the mean, median, and mode of the distribution.\n",
    "- **Mean, Median, Mode**: In a normal distribution, the mean, median, and mode are all equal and located at the center of the distribution.\n",
    "- **Empirical Rule (68-95-99.7 Rule)**: Approximately 68% of the data falls within one standard deviation of the mean, about 95% within two standard deviations, and about 99.7% within three standard deviations.\n",
    "- **Probability Density Function (PDF)**: The PDF of the normal distribution is given by:\n",
    "  \\[\n",
    "  f(x) = \\frac{1}{\\sqrt{2\\pi\\sigma^2}} e^{-\\frac{(x - \\mu)^2}{2\\sigma^2}}\n",
    "  \\]\n",
    "  where \\( \\mu \\) is the mean and \\( \\sigma \\) is the standard deviation.\n",
    "- **Standard Normal Distribution**: A special case of the normal distribution where the mean (\\( \\mu \\)) is 0 and the standard deviation (\\( \\sigma \\)) is 1. It is denoted as \\( N(0, 1) \\).\n",
    "- **Symmetry About the Mean**: The area under the curve to the left of the mean is equal to the area under the curve to the right of the mean.\n",
    "- **Asymptotic Nature**: The tails of the normal distribution curve approach, but never actually touch, the horizontal axis. This means that the distribution extends infinitely in both directions.\n",
    "- **Moment Generating Function**: The moment generating function (MGF) of a normal distribution is given by:\n",
    "  \\[\n",
    "  M(t) = \\exp \\left( \\mu t + \\frac{\\sigma^2 t^2}{2} \\right)\n",
    "  \\]\n",
    "- **Cumulative Distribution Function (CDF)**: The CDF of the normal distribution, denoted as \\( \\Phi(x) \\), gives the probability that a random variable \\( X \\) will take a value less than or equal to \\( x \\). There is no closed-form expression for the CDF, but it can be computed using numerical methods or standard normal tables.\n",
    "- **Central Limit Theorem**: One of the most important properties of the normal distribution is its role in the Central Limit Theorem, which states that the sum (or average) of a large number of independent, identically distributed random variables, regardless of the original distribution, will tend to follow a normal distribution.\n",
    "- **Applications**: Normal distributions are used in various fields including finance, natural and social sciences, and engineering to model real-world phenomena such as heights, test scores, measurement errors, and stock returns."
   ]
  },
  {
   "cell_type": "code",
   "execution_count": null,
   "id": "1ad668a9-579e-49a4-ae59-acf6ffbb83c8",
   "metadata": {},
   "outputs": [],
   "source": []
  }
 ],
 "metadata": {
  "kernelspec": {
   "display_name": "Python 3 (ipykernel)",
   "language": "python",
   "name": "python3"
  },
  "language_info": {
   "codemirror_mode": {
    "name": "ipython",
    "version": 3
   },
   "file_extension": ".py",
   "mimetype": "text/x-python",
   "name": "python",
   "nbconvert_exporter": "python",
   "pygments_lexer": "ipython3",
   "version": "3.12.4"
  }
 },
 "nbformat": 4,
 "nbformat_minor": 5
}
