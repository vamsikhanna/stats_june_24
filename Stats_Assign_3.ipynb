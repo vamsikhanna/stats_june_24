{
 "cells": [
  {
   "cell_type": "markdown",
   "id": "b81d0863-64c0-43a0-b6a1-f14874be3a15",
   "metadata": {},
   "source": [
    "**1.Range**"
   ]
  },
  {
   "cell_type": "markdown",
   "id": "8731f915-5b22-41b8-b3c5-1504137a81f3",
   "metadata": {},
   "source": [
    "**Formula:**\n",
    "\\[ \\text{Range} = \\text{Max Value} - \\text{Min Value} \\]"
   ]
  },
  {
   "cell_type": "markdown",
   "id": "901bddb6-2c78-49b4-bbd3-63d929122404",
   "metadata": {},
   "source": [
    "**Understanding:**\n",
    "- The range is the simplest measure of dispersion, representing the difference between the largest and smallest values in a dataset.\n",
    "\n",
    "**Drawbacks:**\n",
    "- **Sensitive to Outliers:** The range is heavily influenced by extreme values (outliers) in the dataset.\n",
    "- **Limited Information:** It provides no information about the distribution of values between the minimum and maximum."
   ]
  },
  {
   "cell_type": "markdown",
   "id": "34a2f04f-81a5-4054-8802-f7011ca947bd",
   "metadata": {},
   "source": [
    "### 2. Mean Deviation (Mean Absolute Deviation)\n",
    "\n",
    "**Formula:**\n",
    "\\[ \\text{Mean Deviation} = \\frac{1}{N} \\sum_{i=1}^{N} |X_i - \\overline{X}| \\]\n",
    "where \\( \\overline{X} \\) is the mean of the dataset, \\( X_i \\) are the individual data points, and \\( N \\) is the number of data points.\n",
    "\n",
    "**Understanding:**\n",
    "Mean deviation measures the average distance of each data point from the mean of the dataset. It gives an idea of how spread out the data points are around the mean.\n",
    "\n",
    "**Drawbacks:**\n",
    "- **Does Not Account for Squared Differences:** Unlike variance, mean deviation does not square the differences, which can underestimate the dispersion in the presence of large deviations.\n",
    "- **Less Commonly Used:** It is less commonly used in statistical analysis compared to variance and standard deviation."
   ]
  },
  {
   "cell_type": "markdown",
   "id": "bda562a6-e7dd-4f56-ab0a-ca5115f215ea",
   "metadata": {},
   "source": [
    "### 3. Absolute Mean Deviation\n",
    "\n",
    "**Formula:**\n",
    "\\[ \\text{Absolute Mean Deviation} = \\frac{1}{N} \\sum_{i=1}^{N} |X_i - M| \\]\n",
    "where \\( M \\) is the median of the dataset, \\( X_i \\) are the individual data points, and \\( N \\) is the number of data points.\n",
    "\n",
    "**Understanding:**\n",
    "Absolute mean deviation, also known as the median absolute deviation (MAD), measures the average distance of each data point from the median of the dataset. It is a robust measure of variability.\n",
    "\n",
    "**Drawbacks:**\n",
    "- **Less Sensitive to Distribution Shape:** While it is robust to outliers, it may not fully capture the overall shape of the data distribution compared to variance and standard deviation."
   ]
  },
  {
   "cell_type": "markdown",
   "id": "ec7ec159-8895-45b1-a44f-a1b19d552da0",
   "metadata": {},
   "source": [
    "### 4. Variance\n",
    "\n",
    "**Formula:**\n",
    "For a sample:\n",
    "\\[ s^2 = \\frac{1}{N-1} \\sum_{i=1}^{N} (X_i - \\overline{X})^2 \\]\n",
    "For a population:\n",
    "\\[ \\sigma^2 = \\frac{1}{N} \\sum_{i=1}^{N} (X_i - \\mu)^2 \\]\n",
    "where \\( \\overline{X} \\) is the sample mean, \\( \\mu \\) is the population mean, \\( X_i \\) are the individual data points, and \\( N \\) is the number of data points.\n",
    "\n",
    "**Understanding:**\n",
    "Variance measures the average squared deviation of each data point from the mean. It gives a sense of how much the data points vary from the mean.\n",
    "\n",
    "**Drawbacks:**\n",
    "- **Units Squared:** The units of variance are squared, making it less interpretable compared to the original data units.\n",
    "- **Sensitive to Outliers:** Like the range, variance is sensitive to outliers because it squares the deviations."
   ]
  },
  {
   "cell_type": "markdown",
   "id": "b0e8c94a-86e1-452e-bbb1-e905b1c6a356",
   "metadata": {},
   "source": [
    "### 5. Standard Deviation\n",
    "\n",
    "**Formula:**\n",
    "For a sample:\n",
    "\\[ s = \\sqrt{\\frac{1}{N-1} \\sum_{i=1}^{N} (X_i - \\overline{X})^2} \\]\n",
    "For a population:\n",
    "\\[ \\sigma = \\sqrt{\\frac{1}{N} \\sum_{i=1}^{N} (X_i - \\mu)^2} \\]\n",
    "where \\( \\overline{X} \\) is the sample mean, \\( \\mu \\) is the population mean, \\( X_i \\) are the individual data points, and \\( N \\) is the number of data points.\n",
    "\n",
    "**Understanding:**\n",
    "Standard deviation is the square root of variance, providing a measure of dispersion in the same units as the data. It indicates the typical distance of data points from the mean.\n",
    "\n",
    "**Drawbacks:**\n",
    "- **Sensitive to Outliers:** Standard deviation is sensitive to outliers because it is derived from variance, which squares the deviations.\n",
    "- **Assumes Normal Distribution:** It is most meaningful for data that is approximately normally distributed. For non-normal distributions, other measures might be more appropriate."
   ]
  },
  {
   "cell_type": "markdown",
   "id": "10b7a88d-d699-4a23-befc-ab8181e081fb",
   "metadata": {},
   "source": [
    "### Summary\n",
    "\n",
    "- **Range:** Simple but sensitive to outliers and limited in information.\n",
    "- **Mean Deviation:** Average distance from the mean; less common and does not square differences.\n",
    "- **Absolute Mean Deviation:** Average distance from the median; robust but less sensitive to the distribution shape.\n",
    "- **Variance:** Average squared deviation; sensitive to outliers and units are squared.\n",
    "- **Standard Deviation:** Square root of variance; same units as data but sensitive to outliers and assumes normal distribution.\n"
   ]
  },
  {
   "cell_type": "code",
   "execution_count": null,
   "id": "d41c5703-59a2-408f-b8ac-30a6f39ebd08",
   "metadata": {},
   "outputs": [],
   "source": []
  }
 ],
 "metadata": {
  "kernelspec": {
   "display_name": "Python 3 (ipykernel)",
   "language": "python",
   "name": "python3"
  },
  "language_info": {
   "codemirror_mode": {
    "name": "ipython",
    "version": 3
   },
   "file_extension": ".py",
   "mimetype": "text/x-python",
   "name": "python",
   "nbconvert_exporter": "python",
   "pygments_lexer": "ipython3",
   "version": "3.12.4"
  }
 },
 "nbformat": 4,
 "nbformat_minor": 5
}
